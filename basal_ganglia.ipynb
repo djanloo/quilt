{
 "cells": [
  {
   "cell_type": "code",
   "execution_count": 1,
   "id": "be5a96dc-9e68-45e4-b364-fc6ba91b2200",
   "metadata": {},
   "outputs": [
    {
     "name": "stdout",
     "output_type": "stream",
     "text": [
      "/home/dianloo/Desktop/tesi/quilt\n"
     ]
    }
   ],
   "source": [
    "!echo $PYTHONPATH\n",
    "import numpy as np\n",
    "import matplotlib.pyplot as plt\n",
    "import networkx as nx\n",
    "\n",
    "%load_ext autoreload\n",
    "%autoreload 2"
   ]
  },
  {
   "cell_type": "code",
   "execution_count": 2,
   "id": "01d4a799-c24a-463c-812b-304b7d6ce1ce",
   "metadata": {},
   "outputs": [
    {
     "data": {
      "text/html": [
       "<pre style=\"white-space:pre;overflow-x:auto;line-height:normal;font-family:Menlo,'DejaVu Sans Mono',consolas,'Courier New',monospace\">Loaded model for neuron <span style=\"color: #008000; text-decoration-color: #008000\">'D1_neuron'</span>\n",
       "</pre>\n"
      ],
      "text/plain": [
       "Loaded model for neuron \u001b[32m'D1_neuron'\u001b[0m\n"
      ]
     },
     "metadata": {},
     "output_type": "display_data"
    },
    {
     "data": {
      "text/html": [
       "<pre style=\"white-space:pre;overflow-x:auto;line-height:normal;font-family:Menlo,'DejaVu Sans Mono',consolas,'Courier New',monospace\">Loaded model for neuron <span style=\"color: #008000; text-decoration-color: #008000\">'D2_neuron'</span>\n",
       "</pre>\n"
      ],
      "text/plain": [
       "Loaded model for neuron \u001b[32m'D2_neuron'\u001b[0m\n"
      ]
     },
     "metadata": {},
     "output_type": "display_data"
    },
    {
     "data": {
      "text/html": [
       "<pre style=\"white-space:pre;overflow-x:auto;line-height:normal;font-family:Menlo,'DejaVu Sans Mono',consolas,'Courier New',monospace\">Loaded model for neuron <span style=\"color: #008000; text-decoration-color: #008000\">'FSN_neuron'</span>\n",
       "</pre>\n"
      ],
      "text/plain": [
       "Loaded model for neuron \u001b[32m'FSN_neuron'\u001b[0m\n"
      ]
     },
     "metadata": {},
     "output_type": "display_data"
    },
    {
     "data": {
      "text/html": [
       "<pre style=\"white-space:pre;overflow-x:auto;line-height:normal;font-family:Menlo,'DejaVu Sans Mono',consolas,'Courier New',monospace\">Loaded model for neuron <span style=\"color: #008000; text-decoration-color: #008000\">'GPTi_neuron'</span>\n",
       "</pre>\n"
      ],
      "text/plain": [
       "Loaded model for neuron \u001b[32m'GPTi_neuron'\u001b[0m\n"
      ]
     },
     "metadata": {},
     "output_type": "display_data"
    },
    {
     "data": {
      "text/html": [
       "<pre style=\"white-space:pre;overflow-x:auto;line-height:normal;font-family:Menlo,'DejaVu Sans Mono',consolas,'Courier New',monospace\">Loaded model for neuron <span style=\"color: #008000; text-decoration-color: #008000\">'GPTA_neuron'</span>\n",
       "</pre>\n"
      ],
      "text/plain": [
       "Loaded model for neuron \u001b[32m'GPTA_neuron'\u001b[0m\n"
      ]
     },
     "metadata": {},
     "output_type": "display_data"
    },
    {
     "data": {
      "text/html": [
       "<pre style=\"white-space:pre;overflow-x:auto;line-height:normal;font-family:Menlo,'DejaVu Sans Mono',consolas,'Courier New',monospace\">Loaded model for neuron <span style=\"color: #008000; text-decoration-color: #008000\">'GPTI_neuron'</span>\n",
       "</pre>\n"
      ],
      "text/plain": [
       "Loaded model for neuron \u001b[32m'GPTI_neuron'\u001b[0m\n"
      ]
     },
     "metadata": {},
     "output_type": "display_data"
    },
    {
     "data": {
      "text/html": [
       "<pre style=\"white-space:pre;overflow-x:auto;line-height:normal;font-family:Menlo,'DejaVu Sans Mono',consolas,'Courier New',monospace\">Loaded model for neuron <span style=\"color: #008000; text-decoration-color: #008000\">'STN_neuron'</span>\n",
       "</pre>\n"
      ],
      "text/plain": [
       "Loaded model for neuron \u001b[32m'STN_neuron'\u001b[0m\n"
      ]
     },
     "metadata": {},
     "output_type": "display_data"
    }
   ],
   "source": [
    "from quilt.builder import NeuronCatalogue, SpikingNetwork\n",
    "\n",
    "catalogue = NeuronCatalogue.from_yaml(\"tests/basal_ganglia_neurons.yaml\")"
   ]
  },
  {
   "cell_type": "code",
   "execution_count": 3,
   "id": "c4529574-d29e-41cf-af8b-ae77d69f1371",
   "metadata": {},
   "outputs": [
    {
     "data": {
      "text/html": [
       "<pre style=\"white-space:pre;overflow-x:auto;line-height:normal;font-family:Menlo,'DejaVu Sans Mono',consolas,'Courier New',monospace\">Populations are resized by <span style=\"color: #008080; text-decoration-color: #008080; font-weight: bold\">1.0</span>\n",
       "</pre>\n"
      ],
      "text/plain": [
       "Populations are resized by \u001b[1;36m1.0\u001b[0m\n"
      ]
     },
     "metadata": {},
     "output_type": "display_data"
    },
    {
     "name": "stdout",
     "output_type": "stream",
     "text": [
      "Population 0 infos:\n",
      "\tN:6000\n",
      "\tparams:\n",
      "\t\tC_m\t15.2\n",
      "\t\tE_exc\t0\n",
      "\t\tE_inh\t-74\n",
      "\t\tE_reset\t-60\n",
      "\t\tE_rest\t-78.2\n",
      "\t\tE_thr\t-29.7\n",
      "\t\tI_e\t0\n",
      "\t\tI_ext\t0\n",
      "\t\tI_osc\t0\n",
      "\t\tada_a\t-20\n",
      "\t\tada_b\t66.9\n",
      "\t\tada_tau_w\t100\n",
      "\t\texp_threshold\t40\n",
      "\t\tk\t1\n",
      "\t\tneuron_type\t1\n",
      "\t\tomega_I\t0\n",
      "\t\ttau_e\t12\n",
      "\t\ttau_i\t10\n",
      "\t\ttau_m\t10\n",
      "\t\ttau_refrac\t0\n",
      "Population 1 infos:\n",
      "\tN:6000\n",
      "\tparams:\n",
      "\t\tC_m\t15.2\n",
      "\t\tE_exc\t0\n",
      "\t\tE_inh\t-74\n",
      "\t\tE_reset\t-60\n",
      "\t\tE_rest\t-80\n",
      "\t\tE_thr\t-29.7\n",
      "\t\tI_ext\t0\n",
      "\t\tI_osc\t0\n",
      "\t\tV_peak\t40\n",
      "\t\tada_a\t-20\n",
      "\t\tada_b\t91\n",
      "\t\tada_tau_w\t100\n",
      "\t\tk\t1\n",
      "\t\tneuron_type\t1\n",
      "\t\tomega_I\t0\n",
      "\t\ttau_e\t12\n",
      "\t\ttau_i\t10\n",
      "\t\ttau_m\t10\n",
      "\t\ttau_refrac\t0\n",
      "Population 2 infos:\n",
      "\tN:420\n",
      "\tparams:\n",
      "\t\tC_m\t80\n",
      "\t\tE_exc\t0\n",
      "\t\tE_inh\t-74\n",
      "\t\tE_reset\t-60\n",
      "\t\tE_rest\t-80\n",
      "\t\tE_thr\t-50\n",
      "\t\tI_ext\t0\n",
      "\t\tI_osc\t0\n",
      "\t\tV_b_aqif2_cond_exp\t-55\n",
      "\t\tV_peak\t25\n",
      "\t\tada_a\t0.025\n",
      "\t\tada_b\t0\n",
      "\t\tada_tau_w\t5\n",
      "\t\tk\t1\n",
      "\t\tneuron_type\t1\n",
      "\t\tomega_I\t0\n",
      "\t\ttau_e\t12\n",
      "\t\ttau_i\t10\n",
      "\t\ttau_m\t5\n",
      "\t\ttau_refrac\t0\n",
      "Population 3 infos:\n",
      "\tN:780\n",
      "\tparams:\n",
      "\t\tC_m\t40\n",
      "\t\tDelta\t1.7\n",
      "\t\tE_exc\t0\n",
      "\t\tE_inh\t-65\n",
      "\t\tE_reset\t-60\n",
      "\t\tE_rest\t-55.1\n",
      "\t\tE_thr\t-54.7\n",
      "\t\tI_e\t12\n",
      "\t\tI_ext\t0\n",
      "\t\tI_osc\t0\n",
      "\t\tada_a\t2.5\n",
      "\t\tada_b\t70\n",
      "\t\tada_tau_w\t20\n",
      "\t\texp_threshold\t15\n",
      "\t\tg_L\t1\n",
      "\t\tneuron_type\t3\n",
      "\t\tomega_I\t0\n",
      "\t\ttau_e\t10\n",
      "\t\ttau_i\t5.5\n",
      "\t\ttau_m\t1\n",
      "\t\ttau_refrac\t0\n",
      "Population 4 infos:\n",
      "\tN:260\n",
      "\tparams:\n",
      "\t\tC_m\t60\n",
      "\t\tDelta\t2.55\n",
      "\t\tE_exc\t0\n",
      "\t\tE_inh\t-65\n",
      "\t\tE_reset\t-60\n",
      "\t\tE_rest\t-55.1\n",
      "\t\tE_thr\t-54.7\n",
      "\t\tI_ext\t0\n",
      "\t\tI_osc\t0\n",
      "\t\tada_a\t2.5\n",
      "\t\tada_b\t105\n",
      "\t\tada_tau_w\t20\n",
      "\t\texp_threshold\t15\n",
      "\t\tg_L\t1\n",
      "\t\tneuron_type\t3\n",
      "\t\tomega_I\t0\n",
      "\t\ttau_e\t10\n",
      "\t\ttau_i\t5.5\n",
      "\t\ttau_m\t2\n",
      "\t\ttau_refrac\t0\n",
      "Population 5 infos:\n",
      "\tN:408\n",
      "\tparams:\n",
      "\t\tC_m\t60\n",
      "\t\tDelta\t16.2\n",
      "\t\tE_exc\t0\n",
      "\t\tE_inh\t-84\n",
      "\t\tE_reset\t-70\n",
      "\t\tE_rest\t-80.2\n",
      "\t\tE_thr\t-64\n",
      "\t\tI_ext\t0\n",
      "\t\tI_osc\t0\n",
      "\t\tada_a\t0\n",
      "\t\tada_b\t0.05\n",
      "\t\tada_tau_w\t333\n",
      "\t\texp_threshold\t15\n",
      "\t\tg_L\t10\n",
      "\t\tneuron_type\t3\n",
      "\t\tomega_I\t0\n",
      "\t\ttau_e\t4\n",
      "\t\ttau_i\t8\n",
      "\t\ttau_m\t2\n",
      "\t\ttau_refrac\t0\n",
      "Generating weights and delays took 0.948 seconds\n",
      "Min delay 1.7\n",
      "Projection has density 6.00209%\n",
      "Performing 2160754 connections took 78 ms   (0.0362642 us/link)\n",
      "Generating weights and delays took 0.904 seconds\n",
      "Min delay 1.7\n",
      "Projection has density 1.40101%\n",
      "Performing 504365 connections took 44 ms   (0.0880493 us/link)\n",
      "Generating weights and delays took 0.116 seconds\n",
      "Min delay 1.7\n",
      "Projection has density 1.99459%\n",
      "Performing 93347 connections took 5 ms   (0.0590699 us/link)\n",
      "Generating weights and delays took 0.039 seconds\n",
      "Min delay 1.8\n",
      "Projection has density 1.98058%\n",
      "Performing 30897 connections took 2 ms   (0.0756384 us/link)\n",
      "Generating weights and delays took 0.943 seconds\n",
      "Min delay 1.7\n",
      "Projection has density 6.52882%\n",
      "Performing 2350374 connections took 80 ms   (0.0341997 us/link)\n",
      "Generating weights and delays took 0.961 seconds\n",
      "Min delay 1.7\n",
      "Projection has density 8.39744%\n",
      "Performing 3023077 connections took 88 ms   (0.0291438 us/link)\n",
      "Generating weights and delays took 0.061 seconds\n",
      "Min delay 1.2\n",
      "Projection has density 0.99869%\n",
      "Performing 25167 connections took 2 ms   (0.115628 us/link)\n",
      "Generating weights and delays took 0.004 seconds\n",
      "Min delay 1.0\n",
      "Projection has density 2.16723%\n",
      "Performing 3823 connections took 0 ms   (0.0771645 us/link)\n",
      "Generating weights and delays took 0.061 seconds\n",
      "Min delay 1.5\n",
      "Projection has density 2.00405%\n",
      "Performing 50502 connections took 3 ms   (0.0697398 us/link)\n",
      "Generating weights and delays took 0.014 seconds\n",
      "Min delay 1.0\n",
      "Projection has density 3.22535%\n",
      "Performing 19623 connections took 0 ms   (0.0454569 us/link)\n",
      "Generating weights and delays took 0.005 seconds\n",
      "Min delay 1.0\n",
      "Projection has density 3.1573%\n",
      "Performing 6403 connections took 0 ms   (0.0496642 us/link)\n",
      "Generating weights and delays took 0.007 seconds\n",
      "Min delay 1.0\n",
      "Projection has density 3.79682%\n",
      "Performing 12083 connections took 0 ms   (0.0454357 us/link)\n",
      "Generating weights and delays took 0.001 seconds\n",
      "Min delay 1.0\n",
      "Projection has density 3.19379%\n",
      "Performing 2159 connections took 0 ms   (0.0565076 us/link)\n",
      "Generating weights and delays took 0.004 seconds\n",
      "Min delay 1.0\n",
      "Projection has density 1.88412%\n",
      "Performing 3821 connections took 0 ms   (0.068045 us/link)\n",
      "Generating weights and delays took 0.007 seconds\n",
      "Min delay 2.0\n",
      "Projection has density 7.30801%\n",
      "Performing 23257 connections took 0 ms   (0.0279056 us/link)\n"
     ]
    }
   ],
   "source": [
    "sn = SpikingNetwork.from_yaml(\"tests/basal_ganglia_network.yaml\", catalogue)"
   ]
  },
  {
   "cell_type": "code",
   "execution_count": 4,
   "id": "73e18b4d-675b-496a-91e5-550a970b2a9a",
   "metadata": {},
   "outputs": [
    {
     "data": {
      "image/png": "[encoded data removed]",
      "text/plain": [
       "<Figure size 640x480 with 1 Axes>"
      ]
     },
     "metadata": {},
     "output_type": "display_data"
    }
   ],
   "source": [
    "from quilt.view import plot_graph\n",
    "plot_graph(sn)"
   ]
  },
  {
   "cell_type": "code",
   "execution_count": 5,
   "id": "0c8d866e-0321-44f3-90e5-23fb2eabe770",
   "metadata": {},
   "outputs": [],
   "source": [
    "pop_state_monitorized = \"GPTI\"\n",
    "for population in sn.populations.values():\n",
    "    population.monitorize_spikes()\n",
    "sn.populations[pop_state_monitorized].monitorize_states()"
   ]
  },
  {
   "cell_type": "code",
   "execution_count": 6,
   "id": "8a59c6b9-7c46-4672-aa36-a5378aeb5928",
   "metadata": {},
   "outputs": [],
   "source": [
    "for pop in sn.populations.values():\n",
    "    pop.add_injector(50, 0, 200)\n",
    "\n",
    "sn.populations[\"D1\"].add_injector(500,  # pA\n",
    "                                  0,   # ms\n",
    "                                  100   # ms\n",
    "                                 )\n",
    "sn.populations[\"D2\"].add_injector(500,  # pA\n",
    "                                  0,   # ms\n",
    "                                  100   # ms\n",
    "                                 )"
   ]
  },
  {
   "cell_type": "code",
   "execution_count": 7,
   "id": "64c072b2-47b6-4bae-88e4-f5406342512e",
   "metadata": {},
   "outputs": [
    {
     "name": "stdout",
     "output_type": "stream",
     "text": [
      "Minimum synaptic delay is 1\n",
      "Running network consisting of 13868 neurons for 4000 timesteps\n",
      "\n",
      "0%   10   20   30   40   50   60   70   80   90   100%\n",
      "|----|----|----|----|----|----|----|----|----|----|\n",
      "***************************************************\n",
      "Simulation took 11 s\t(2.809 ms/step)\n",
      "\tGathering time avg: 69.0015 us/step\n",
      "\tInject time avg: 0.01125 us/step\n"
     ]
    }
   ],
   "source": [
    "sn.run(dt=0.1, time=400)"
   ]
  },
  {
   "cell_type": "code",
   "execution_count": 8,
   "id": "440e5d4c-241a-453f-987d-a3c15fdc3657",
   "metadata": {},
   "outputs": [],
   "source": [
    "spikes = dict()\n",
    "for pop in sn.populations.keys():\n",
    "    spikes[pop] = sn.populations[pop].get_data()['spikes']\n",
    "\n",
    "states = sn.populations[pop_state_monitorized].get_data()['states']"
   ]
  },
  {
   "cell_type": "code",
   "execution_count": 11,
   "id": "b6f6e816-a386-42b2-9b1f-5676d3807e62",
   "metadata": {},
   "outputs": [
    {
     "data": {
      "text/plain": [
       "<matplotlib.legend.Legend at 0x7f142d22bca0>"
      ]
     },
     "execution_count": 11,
     "metadata": {},
     "output_type": "execute_result"
    },
    {
     "data": {
      "image/png": "[encoded data removed]",
      "text/plain": [
       "<Figure size 640x480 with 1 Axes>"
      ]
     },
     "metadata": {},
     "output_type": "display_data"
    }
   ],
   "source": [
    "for pop in spikes.keys():\n",
    "    N = 10\n",
    "    \n",
    "    plt.plot(np.convolve(spikes[pop], np.ones(N)), label=pop)\n",
    "plt.ylim(0,600)\n",
    "plt.legend()"
   ]
  },
  {
   "cell_type": "code",
   "execution_count": null,
   "id": "be5fc473-edff-40a0-9e3c-951b16eda3f1",
   "metadata": {},
   "outputs": [],
   "source": []
  }
 ],
 "metadata": {
  "kernelspec": {
   "display_name": "quilt_env",
   "language": "python",
   "name": "quilt_env"
  },
  "language_info": {
   "codemirror_mode": {
    "name": "ipython",
    "version": 3
   },
   "file_extension": ".py",
   "mimetype": "text/x-python",
   "name": "python",
   "nbconvert_exporter": "python",
   "pygments_lexer": "ipython3",
   "version": "3.10.12"
  }
 },
 "nbformat": 4,
 "nbformat_minor": 5
}
