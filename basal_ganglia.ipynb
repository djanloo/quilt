{
 "cells": [
  {
   "cell_type": "code",
   "execution_count": 1,
   "id": "be5a96dc-9e68-45e4-b364-fc6ba91b2200",
   "metadata": {},
   "outputs": [
    {
     "name": "stdout",
     "output_type": "stream",
     "text": [
      "/home/dianloo/Desktop/tesi/quilt\n"
     ]
    }
   ],
   "source": [
    "!echo $PYTHONPATH\n",
    "import numpy as np\n",
    "import matplotlib.pyplot as plt\n",
    "import networkx as nx\n",
    "\n",
    "%load_ext autoreload\n",
    "%autoreload 2\n",
    "%matplotlib inline\n",
    "# %matplotlib ipympl"
   ]
  },
  {
   "cell_type": "code",
   "execution_count": 2,
   "id": "01d4a799-c24a-463c-812b-304b7d6ce1ce",
   "metadata": {},
   "outputs": [],
   "source": [
    "from quilt.interface.spiking import set_verbosity\n",
    "set_verbosity(1)\n",
    "\n",
    "\n",
    "T = 800 # simulate for 800 ms\n",
    "dt = 0.1 # ms\n",
    "points_per_bin = 10      # bins 1 ms wide\n",
    "sampling_frequency = 1e3 # 1 kHz sampling frequency\n",
    "burn_in_millis = 200     # the first part of the record to discard (ms)"
   ]
  },
  {
   "cell_type": "code",
   "execution_count": 3,
   "id": "c4529574-d29e-41cf-af8b-ae77d69f1371",
   "metadata": {},
   "outputs": [
    {
     "data": {
      "application/vnd.jupyter.widget-view+json": {
       "model_id": "114e4b0a21424c0c9ed412a5aa8c6d98",
       "version_major": 2,
       "version_minor": 0
      },
      "text/plain": [
       "Output()"
      ]
     },
     "metadata": {},
     "output_type": "display_data"
    },
    {
     "data": {
      "text/html": [
       "<pre style=\"white-space:pre;overflow-x:auto;line-height:normal;font-family:Menlo,'DejaVu Sans Mono',consolas,'Courier New',monospace\"></pre>\n"
      ],
      "text/plain": []
     },
     "metadata": {},
     "output_type": "display_data"
    },
    {
     "data": {
      "text/html": [
       "<pre style=\"white-space:pre;overflow-x:auto;line-height:normal;font-family:Menlo,'DejaVu Sans Mono',consolas,'Courier New',monospace\">\n",
       "</pre>\n"
      ],
      "text/plain": [
       "\n"
      ]
     },
     "metadata": {},
     "output_type": "display_data"
    }
   ],
   "source": [
    "from quilt.builder import NeuronCatalogue, SpikingNetwork\n",
    "catalogue = NeuronCatalogue.from_yaml(\"tests/basal_ganglia_neurons.yaml\")\n",
    "\n",
    "sn = SpikingNetwork.from_yaml(\"tests/basal_ganglia_network.yaml\", catalogue)\n",
    "\n",
    "# Magic super clean params: {'poisson_rescale': 1.9739110331634744, 'weight_rescale': 1.7952043585344422}\n",
    "\n",
    "sn.rescale_populations(1.0)\n",
    "sn.rescale_connectivity(1)\n",
    "sn.rescale_weights(1.79)\n",
    "sn.rescale_delays(1)\n",
    "\n",
    "poisson_rescale = 1.97\n",
    "\n",
    "sn.build()"
   ]
  },
  {
   "cell_type": "code",
   "execution_count": 4,
   "id": "73e18b4d-675b-496a-91e5-550a970b2a9a",
   "metadata": {},
   "outputs": [],
   "source": [
    "# from quilt.view import plot_graph\n",
    "# fig, ax = plt.subplots()\n",
    "# plot_graph(sn)"
   ]
  },
  {
   "cell_type": "markdown",
   "id": "628b5dee-6edb-4368-8c37-0391b1340c32",
   "metadata": {},
   "source": [
    "## Input/Output"
   ]
  },
  {
   "cell_type": "code",
   "execution_count": 5,
   "id": "0c8d866e-0321-44f3-90e5-23fb2eabe770",
   "metadata": {},
   "outputs": [],
   "source": [
    "# pop_state_monitorized = \"FSN\"\n",
    "for population in sn.populations.values():\n",
    "    population.monitorize_spikes()\n",
    "# sn.populations[pop_state_monitorized].monitorize_states()"
   ]
  },
  {
   "cell_type": "code",
   "execution_count": 6,
   "id": "8a59c6b9-7c46-4672-aa36-a5378aeb5928",
   "metadata": {},
   "outputs": [],
   "source": [
    "poisson_inputs = dict(STN   = [500, 0.25],\n",
    "                      GPeTA = [170, 0.15],\n",
    "                      GPeTI = [1530, 0.25 ],\n",
    "                      FSN   = [944.4, 0.5],\n",
    "                      SNR   = [600, 0.55]\n",
    "                    )\n",
    "\n",
    "for pi in poisson_inputs.values():\n",
    "    pi[1] *= poisson_rescale\n",
    "    \n",
    "for pop in poisson_inputs:\n",
    "    sn.populations[pop].add_poisson_spike_injector(*poisson_inputs[pop])\n",
    "\n",
    "sn.populations[\"D1\"].add_poisson_spike_injector(1120, 0.45 * poisson_rescale)\n",
    "sn.populations[\"D2\"].add_poisson_spike_injector(972.927, 0.45 * poisson_rescale) "
   ]
  },
  {
   "cell_type": "markdown",
   "id": "7ba13cef-e919-4680-b605-10a301f353d6",
   "metadata": {},
   "source": [
    "## Run and get spikes"
   ]
  },
  {
   "cell_type": "code",
   "execution_count": 7,
   "id": "64c072b2-47b6-4bae-88e4-f5406342512e",
   "metadata": {},
   "outputs": [
    {
     "name": "stdout",
     "output_type": "stream",
     "text": [
      "Running network consisting of 14622 neurons for 8000 timesteps\n",
      "--------------------------------------------------\n",
      "**************************************************\n",
      "Simulation took 11 s\t(1.42 ms/step)\n",
      "\tGathering time avg: 0.023 us/step\n",
      "\tInject time avg: 116.849 us/step\n",
      "Population evolution stats:\n",
      "\t0:\n",
      "\t\tevolution:\t363.195 us/step\t---\t60 ns/step/neuron\n",
      "\t\tspike emission:\t33.4861 us/step\t---\t5 ns/step/neuron\n",
      "\t1:\n",
      "\t\tevolution:\t351.876 us/step\t---\t58 ns/step/neuron\n",
      "\t\tspike emission:\t96.5324 us/step\t---\t16 ns/step/neuron\n",
      "\t2:\n",
      "\t\tevolution:\t73.3051 us/step\t---\t174 ns/step/neuron\n",
      "\t\tspike emission:\t24.8594 us/step\t---\t59 ns/step/neuron\n",
      "\t3:\n",
      "\t\tevolution:\t96.2103 us/step\t---\t123 ns/step/neuron\n",
      "\t\tspike emission:\t27.2425 us/step\t---\t34 ns/step/neuron\n",
      "\t4:\n",
      "\t\tevolution:\t56.0026 us/step\t---\t215 ns/step/neuron\n",
      "\t\tspike emission:\t7.66525 us/step\t---\t29 ns/step/neuron\n",
      "\t5:\n",
      "\t\tevolution:\t65.4879 us/step\t---\t160 ns/step/neuron\n",
      "\t\tspike emission:\t5.62838 us/step\t---\t13 ns/step/neuron\n",
      "\t6:\n",
      "\t\tevolution:\t88.9223 us/step\t---\t117 ns/step/neuron\n",
      "\t\tspike emission:\t3.07287 us/step\t---\t4 ns/step/neuron\n"
     ]
    }
   ],
   "source": [
    "sn.run(dt=dt, time=T)"
   ]
  },
  {
   "cell_type": "code",
   "execution_count": 8,
   "id": "440e5d4c-241a-453f-987d-a3c15fdc3657",
   "metadata": {},
   "outputs": [],
   "source": [
    "spikes = dict()\n",
    "for pop in sn.populations.keys():\n",
    "    spikes[pop] = sn.populations[pop].get_data()['spikes']"
   ]
  },
  {
   "cell_type": "code",
   "execution_count": 9,
   "id": "b6f6e816-a386-42b2-9b1f-5676d3807e62",
   "metadata": {},
   "outputs": [],
   "source": [
    "def bin_spikes(spikes, points_per_bin = 10):\n",
    "    binned_signal = np.sum( spikes[:(len(spikes)//points_per_bin)*points_per_bin].reshape(-1, points_per_bin),\n",
    "                        axis=1).squeeze()\n",
    "    return binned_signal"
   ]
  },
  {
   "cell_type": "code",
   "execution_count": 10,
   "id": "23885a04-8342-401d-bc46-d032d6d2235f",
   "metadata": {},
   "outputs": [
    {
     "data": {
      "image/png": "[encoded data removed]",
      "text/plain": [
       "<Figure size 640x480 with 1 Axes>"
      ]
     },
     "metadata": {},
     "output_type": "display_data"
    }
   ],
   "source": [
    "plt.plot(bin_spikes(spikes[\"D1\"]))\n",
    "plt.show()"
   ]
  },
  {
   "cell_type": "code",
   "execution_count": null,
   "id": "9cec2e66-338f-4b66-ae8d-86bc37e71ca7",
   "metadata": {},
   "outputs": [],
   "source": [
    "del sn"
   ]
  },
  {
   "cell_type": "markdown",
   "id": "8e5da8f8-53f2-4863-bd30-2def912532f0",
   "metadata": {},
   "source": [
    "## Tuning\n",
    "Starts an optuna study to tune `poisson_rescale` and `weight_rescale`. As objective function the total beta-range power is chosen."
   ]
  },
  {
   "cell_type": "code",
   "execution_count": 11,
   "id": "a006386c-e01d-4f20-8fa3-e5eab0b5e27d",
   "metadata": {},
   "outputs": [],
   "source": [
    "import optuna\n",
    "\n",
    "from scipy.signal import welch\n",
    "\n",
    "optimize_population = \"GPeTA\"\n",
    "\n",
    "def build_network(poisson_rescale, rescale_weights):\n",
    "    \n",
    "    catalogue = NeuronCatalogue.from_yaml(\"tests/basal_ganglia_neurons.yaml\")\n",
    "    sn = SpikingNetwork.from_yaml(\"tests/basal_ganglia_network.yaml\", catalogue)\n",
    "\n",
    "    sn.rescale_populations(1)\n",
    "    sn.rescale_connectivity(1)\n",
    "    sn.rescale_weights(rescale_weights)\n",
    "    sn.rescale_delays(1)\n",
    "    \n",
    "    sn.build(progress_bar=False)\n",
    "\n",
    "    for pop in sn.populations.values():\n",
    "       pop.monitorize_spikes()\n",
    "\n",
    "    poisson_inputs = dict(STN   = [500, 0.25],\n",
    "                          GPeTA = [170, 0.15],\n",
    "                          GPeTI = [1530, 0.25 ],\n",
    "                          FSN   = [944.4, 0.5],\n",
    "                          SNR   = [600, 0.55],\n",
    "                          D1    = [1120, 0.45],\n",
    "                          D2    = [972.972, 0.45]\n",
    "                        )\n",
    "    # poisson_rescale = 0.8\n",
    "    for pi in poisson_inputs.values():\n",
    "        pi[1] *= poisson_rescale\n",
    "        \n",
    "    for pop in poisson_inputs:\n",
    "        sn.populations[pop].add_poisson_spike_injector(*poisson_inputs[pop])\n",
    "    \n",
    "    return sn\n",
    "\n",
    "def beta_power(sn):\n",
    "    sn.run(dt=0.1, time=T)\n",
    "    \n",
    "    spikes = sn.populations[optimize_population].get_data()['spikes']\n",
    "    binned_spikes = bin_spikes(spikes)[burn_in_millis:]\n",
    "    \n",
    "    f, PSD = welch(binned_spikes, \n",
    "                   sampling_frequency, \n",
    "                   nperseg = (T - burn_in_millis)/2, # Takes at least 3 windows\n",
    "                   noverlap= (T - burn_in_millis)/4,\n",
    "                   nfft=None, \n",
    "                   scaling='density', \n",
    "                   window='hamming')\n",
    "    \n",
    "    beta_mask = (f>12)&(f<30)\n",
    "    \n",
    "    return np.trapz(PSD[beta_mask], x=f[beta_mask])\n",
    "    \n",
    "def optimize_beta_power(trial):\n",
    "    sn = build_network(trial.suggest_float(\"poisson_rescale\", 0.1 , 2 ),\n",
    "                       trial.suggest_float(\"weight_rescale\", 0.1, 2))\n",
    "    return beta_power(sn)\n",
    "    "
   ]
  },
  {
   "cell_type": "code",
   "execution_count": null,
   "id": "06abb4f7-b8d8-4d35-8dcd-22a78ca989bf",
   "metadata": {},
   "outputs": [
    {
     "name": "stderr",
     "output_type": "stream",
     "text": [
      "[I 2024-01-19 22:48:06,477] A new study created in memory with name: no-name-adaac4cb-8d24-4e14-8c5d-f04320a8ebe5\n",
      "[I 2024-01-19 22:49:04,504] Trial 1 finished with value: 0.2687449349871961 and parameters: {'poisson_rescale': 1.9414748363695276, 'weight_rescale': 0.5009952262774722}. Best is trial 1 with value: 0.2687449349871961.\n",
      "[I 2024-01-19 22:49:15,744] Trial 2 finished with value: 0.17241481912213857 and parameters: {'poisson_rescale': 1.1015268229017319, 'weight_rescale': 1.0877730869001956}. Best is trial 1 with value: 0.2687449349871961.\n",
      "[I 2024-01-19 22:49:28,530] Trial 6 finished with value: 0.1251584248491873 and parameters: {'poisson_rescale': 1.13255344720891, 'weight_rescale': 1.0645643952090191}. Best is trial 1 with value: 0.2687449349871961.\n",
      "[I 2024-01-19 22:49:41,243] Trial 7 finished with value: 1.170554711401685 and parameters: {'poisson_rescale': 0.38932371395691945, 'weight_rescale': 0.7136671641468615}. Best is trial 7 with value: 1.170554711401685.\n",
      "[I 2024-01-19 22:49:55,526] Trial 0 finished with value: 0.3103816751738058 and parameters: {'poisson_rescale': 1.6393859415256506, 'weight_rescale': 0.7120452669583529}. Best is trial 7 with value: 1.170554711401685.\n",
      "[I 2024-01-19 22:50:11,970] Trial 4 finished with value: 0.12493677107846854 and parameters: {'poisson_rescale': 0.7416812307811554, 'weight_rescale': 1.1981197913921253}. Best is trial 7 with value: 1.170554711401685.\n",
      "[I 2024-01-19 22:50:25,816] Trial 3 finished with value: 0.22249730430020656 and parameters: {'poisson_rescale': 0.9768486608106033, 'weight_rescale': 1.3076101528451984}. Best is trial 7 with value: 1.170554711401685.\n",
      "[I 2024-01-19 22:50:42,838] Trial 5 finished with value: 8.797420440669745 and parameters: {'poisson_rescale': 1.5328552323045355, 'weight_rescale': 1.7779761114049453}. Best is trial 5 with value: 8.797420440669745.\n",
      "[I 2024-01-19 22:51:19,594] Trial 9 finished with value: 0.054776231411966685 and parameters: {'poisson_rescale': 0.7159592785560966, 'weight_rescale': 1.5822930892371352}. Best is trial 5 with value: 8.797420440669745.\n",
      "[I 2024-01-19 22:51:31,524] Trial 8 finished with value: 0.16476723658206843 and parameters: {'poisson_rescale': 0.8872623363614011, 'weight_rescale': 1.9632916402893004}. Best is trial 5 with value: 8.797420440669745.\n",
      "[I 2024-01-19 22:51:42,755] Trial 10 finished with value: 0.05664665458211927 and parameters: {'poisson_rescale': 0.5846403481727074, 'weight_rescale': 1.5368298418459185}. Best is trial 5 with value: 8.797420440669745.\n",
      "[I 2024-01-19 22:51:56,909] Trial 11 finished with value: 0.21454127562181394 and parameters: {'poisson_rescale': 1.3975473176410271, 'weight_rescale': 1.207448732341994}. Best is trial 5 with value: 8.797420440669745.\n",
      "[I 2024-01-19 22:52:12,780] Trial 12 finished with value: 7.788713440921724 and parameters: {'poisson_rescale': 0.11664765033171859, 'weight_rescale': 0.19942936696422628}. Best is trial 5 with value: 8.797420440669745.\n",
      "[I 2024-01-19 22:52:29,428] Trial 14 finished with value: 0.13507931259920164 and parameters: {'poisson_rescale': 0.9984236724011507, 'weight_rescale': 1.4247333712175456}. Best is trial 5 with value: 8.797420440669745.\n",
      "[I 2024-01-19 22:52:46,388] Trial 13 finished with value: 0.08207227180297327 and parameters: {'poisson_rescale': 0.7734904466215122, 'weight_rescale': 1.6012167662475356}. Best is trial 5 with value: 8.797420440669745.\n",
      "[I 2024-01-19 22:53:04,687] Trial 15 finished with value: 1.5388468833722897 and parameters: {'poisson_rescale': 0.24795804888527545, 'weight_rescale': 0.2945904118781414}. Best is trial 5 with value: 8.797420440669745.\n",
      "[I 2024-01-19 22:53:32,728] Trial 16 finished with value: 0.22115977966862121 and parameters: {'poisson_rescale': 1.240265688475889, 'weight_rescale': 0.5143425349821044}. Best is trial 5 with value: 8.797420440669745.\n",
      "[I 2024-01-19 22:53:44,543] Trial 18 finished with value: 9.74892900590509 and parameters: {'poisson_rescale': 0.10286303393963614, 'weight_rescale': 0.2690426065783175}. Best is trial 18 with value: 9.74892900590509.\n",
      "[I 2024-01-19 22:53:55,816] Trial 19 finished with value: 5.319331980701607 and parameters: {'poisson_rescale': 0.12918514711194357, 'weight_rescale': 0.1612717331563832}. Best is trial 18 with value: 9.74892900590509.\n",
      "[I 2024-01-19 22:54:10,191] Trial 17 finished with value: 11.860012583240447 and parameters: {'poisson_rescale': 1.523560803005807, 'weight_rescale': 1.9665491743289285}. Best is trial 17 with value: 11.860012583240447.\n",
      "[I 2024-01-19 22:54:23,082] Trial 20 finished with value: 0.4167874039754635 and parameters: {'poisson_rescale': 0.2054944011575479, 'weight_rescale': 0.16909305511473716}. Best is trial 17 with value: 11.860012583240447.\n",
      "[I 2024-01-19 22:54:47,388] Trial 21 finished with value: 4.147282714854683 and parameters: {'poisson_rescale': 0.12432487131773262, 'weight_rescale': 0.14181650307815458}. Best is trial 17 with value: 11.860012583240447.\n",
      "[I 2024-01-19 22:55:02,410] Trial 22 finished with value: 0.1966871071821875 and parameters: {'poisson_rescale': 0.3058847702953317, 'weight_rescale': 0.23138248875114303}. Best is trial 17 with value: 11.860012583240447.\n",
      "[I 2024-01-19 22:55:29,245] Trial 23 finished with value: 0.07538534447254217 and parameters: {'poisson_rescale': 1.4787094285840003, 'weight_rescale': 0.15222007101984766}. Best is trial 17 with value: 11.860012583240447.\n",
      "[I 2024-01-19 22:55:50,021] Trial 24 finished with value: 0.02041417788793601 and parameters: {'poisson_rescale': 0.10926737851372423, 'weight_rescale': 1.9645957793410351}. Best is trial 17 with value: 11.860012583240447.\n",
      "[I 2024-01-19 22:56:02,816] Trial 26 finished with value: 7.764755355568142 and parameters: {'poisson_rescale': 1.5868726246106137, 'weight_rescale': 1.8073367967258192}. Best is trial 17 with value: 11.860012583240447.\n",
      "[I 2024-01-19 22:56:16,720] Trial 27 finished with value: 0.6328875899424473 and parameters: {'poisson_rescale': 1.8462347594871273, 'weight_rescale': 0.8583071868989043}. Best is trial 17 with value: 11.860012583240447.\n",
      "[I 2024-01-19 22:56:32,423] Trial 25 finished with value: 13.080774041588143 and parameters: {'poisson_rescale': 1.6244644366073195, 'weight_rescale': 1.9444617450368942}. Best is trial 25 with value: 13.080774041588143.\n",
      "[I 2024-01-19 22:56:50,144] Trial 28 finished with value: 19.5991337038361 and parameters: {'poisson_rescale': 1.6665144758691537, 'weight_rescale': 1.9617663005043795}. Best is trial 28 with value: 19.5991337038361.\n",
      "[I 2024-01-19 22:57:14,837] Trial 29 finished with value: 7.665288697997651 and parameters: {'poisson_rescale': 1.499515227512107, 'weight_rescale': 1.9066612106269238}. Best is trial 28 with value: 19.5991337038361.\n",
      "[I 2024-01-19 22:57:32,654] Trial 30 finished with value: 16.488486071955315 and parameters: {'poisson_rescale': 1.5904743398531562, 'weight_rescale': 1.9255506338755926}. Best is trial 28 with value: 19.5991337038361.\n",
      "[I 2024-01-19 22:57:55,181] Trial 31 finished with value: 19.24525856979857 and parameters: {'poisson_rescale': 1.8793126896081696, 'weight_rescale': 1.9556943090653414}. Best is trial 28 with value: 19.5991337038361.\n",
      "[I 2024-01-19 22:58:14,007] Trial 34 finished with value: 16.381336078195307 and parameters: {'poisson_rescale': 1.7161052803063472, 'weight_rescale': 1.7995534875847004}. Best is trial 28 with value: 19.5991337038361.\n",
      "[I 2024-01-19 22:58:27,174] Trial 33 finished with value: 11.812522622963142 and parameters: {'poisson_rescale': 1.8081655496521878, 'weight_rescale': 1.8478401988821247}. Best is trial 28 with value: 19.5991337038361.\n",
      "[I 2024-01-19 22:58:43,164] Trial 32 finished with value: 17.415143522526332 and parameters: {'poisson_rescale': 1.763141549215511, 'weight_rescale': 1.7824710311137664}. Best is trial 28 with value: 19.5991337038361.\n",
      "[I 2024-01-19 22:59:02,293] Trial 35 finished with value: 14.884141151748336 and parameters: {'poisson_rescale': 1.7328304261924794, 'weight_rescale': 1.7749906290875852}. Best is trial 28 with value: 19.5991337038361.\n",
      "[I 2024-01-19 22:59:17,202] Trial 36 finished with value: 15.440767401006443 and parameters: {'poisson_rescale': 1.747989982884777, 'weight_rescale': 1.773923186976267}. Best is trial 28 with value: 19.5991337038361.\n",
      "[I 2024-01-19 22:59:44,816] Trial 37 finished with value: 14.621620636443277 and parameters: {'poisson_rescale': 1.7366065336318202, 'weight_rescale': 1.7285876369189246}. Best is trial 28 with value: 19.5991337038361.\n",
      "[I 2024-01-19 23:00:06,356] Trial 38 finished with value: 12.792975644638766 and parameters: {'poisson_rescale': 1.7772279125874075, 'weight_rescale': 1.738010397843691}. Best is trial 28 with value: 19.5991337038361.\n",
      "[I 2024-01-19 23:00:26,278] Trial 39 finished with value: 11.335889513501398 and parameters: {'poisson_rescale': 1.7233174114994414, 'weight_rescale': 1.7420894340002113}. Best is trial 28 with value: 19.5991337038361.\n",
      "[I 2024-01-19 23:00:42,360] Trial 40 finished with value: 8.495027452258201 and parameters: {'poisson_rescale': 1.769301625123225, 'weight_rescale': 1.7195966585393696}. Best is trial 28 with value: 19.5991337038361.\n",
      "[I 2024-01-19 23:00:59,054] Trial 41 finished with value: 22.738889902844665 and parameters: {'poisson_rescale': 1.9888358134162933, 'weight_rescale': 1.712533669656733}. Best is trial 41 with value: 22.738889902844665.\n",
      "[I 2024-01-19 23:01:15,876] Trial 42 finished with value: 21.206480913693575 and parameters: {'poisson_rescale': 1.8837967724396294, 'weight_rescale': 1.6576561659416824}. Best is trial 41 with value: 22.738889902844665.\n"
     ]
    }
   ],
   "source": [
    "set_verbosity(0) # Turns off C++ outputs\n",
    "\n",
    "study = optuna.create_study(direction = 'maximize')\n",
    "study.optimize(optimize_beta_power, n_trials = 30, n_jobs = -1, catch=(ValueError, TypeError))"
   ]
  },
  {
   "cell_type": "markdown",
   "id": "e8afd907-f4b7-45d5-97e0-d55214cb850b",
   "metadata": {},
   "source": [
    "## Plot best params"
   ]
  },
  {
   "cell_type": "code",
   "execution_count": null,
   "id": "7c08947d-f140-42c7-b20d-8646f1ae2a39",
   "metadata": {},
   "outputs": [],
   "source": [
    "set_verbosity(1)\n",
    "best_params = study.best_params\n",
    "print(best_params)\n",
    "sn = build_network(best_params['poisson_rescale'], best_params['weight_rescale'])\n",
    "print(beta_power(sn))"
   ]
  },
  {
   "cell_type": "code",
   "execution_count": null,
   "id": "0a6f19a5-7063-4c76-bcd4-effdb542b20e",
   "metadata": {},
   "outputs": [],
   "source": [
    "from scipy.integrate import simpson\n",
    "\n",
    "timesteps_per_bin = 10\n",
    "sampling_frequency = 1e4/timesteps_per_bin\n",
    "fig, ax = plt.subplots()\n",
    "\n",
    "binned_spikes = dict()\n",
    "for pop in sn.populations:\n",
    "    spikes = sn.populations[pop].get_data()['spikes']\n",
    "    binned_spikes[pop] = bin_spikes(spikes)\n",
    "    binned_spikes[pop] = binned_spikes[pop][200:]\n",
    "    print(f\"Mean fire rate {pop} is {np.mean(binned_spikes[pop])/sn.populations[pop].n_neurons :.1f} Hz\")\n",
    "    f, PSD = welch(binned_spikes[pop], \n",
    "                   1000, \n",
    "                   nperseg=600, \n",
    "                   noverlap=150,\n",
    "                   nfft=None, \n",
    "                   scaling='density', \n",
    "                   window='hamming')\n",
    "\n",
    "    norm = simpson(PSD, x=f)\n",
    "    plt.plot(f, PSD/norm, label=pop)\n",
    "print(f\"F resolution { f[1] - f[0] :.2f} Hz\")\n",
    "# plt.yscale('log')\n",
    "plt.legend()\n",
    "plt.ylabel(\"normalized PSD\")\n",
    "plt.xlabel(\"Frequency [Hz]\")\n",
    "plt.xlim(0,150)"
   ]
  },
  {
   "cell_type": "code",
   "execution_count": null,
   "id": "d8f9ea9a-1b38-4c59-8d16-857190c3568e",
   "metadata": {},
   "outputs": [],
   "source": [
    "for pop in sn.populations:\n",
    "    plt.plot(binned_spikes[pop]/sn.populations[pop].n_neurons, label=pop)\n",
    "plt.axhline()\n",
    "plt.xlabel(\"Time [ms]\")\n",
    "plt.ylabel(\"Spiking events per ms per neuron\")"
   ]
  },
  {
   "cell_type": "markdown",
   "id": "0e75a57f-f72c-4689-9777-5c435bb88632",
   "metadata": {},
   "source": [
    "## Time signal analysis"
   ]
  },
  {
   "cell_type": "code",
   "execution_count": null,
   "id": "575fe2f6-b96a-4675-ba09-4944f76163e3",
   "metadata": {},
   "outputs": [],
   "source": [
    "from scipy.signal import butter, sosfiltfilt, freqz\n",
    "\n",
    "\n",
    "def bandpass(data: np.ndarray, edges: list[float], sample_rate: float, poles: int = 5):\n",
    "    sos = butter(poles, edges, 'bandpass', fs=sample_rate, output='sos')\n",
    "    filtered_data = sosfiltfilt(sos, data)\n",
    "    return filtered_data\n",
    "    \n",
    "fig, ax = plt.subplots()\n",
    "\n",
    "pop = \"GPeTI\"\n",
    "\n",
    "tt = np.linspace(0, 5, len(binned_spikes[pop]))\n",
    "\n",
    "plt.plot(tt,binned_spikes[pop])\n",
    "plt.plot(tt, bandpass(binned_spikes[pop], [12, 24], 1000), label=\"beta\")\n",
    "plt.plot(tt, bandpass(binned_spikes[pop], [30, 140], 1000), label=\"gamma\")\n",
    "plt.legend()"
   ]
  },
  {
   "cell_type": "code",
   "execution_count": null,
   "id": "f332aa6c-7ea9-475c-a7cf-a6a82fe43f45",
   "metadata": {},
   "outputs": [],
   "source": []
  }
 ],
 "metadata": {
  "kernelspec": {
   "display_name": "quilt_env",
   "language": "python",
   "name": "quilt_env"
  },
  "language_info": {
   "codemirror_mode": {
    "name": "ipython",
    "version": 3
   },
   "file_extension": ".py",
   "mimetype": "text/x-python",
   "name": "python",
   "nbconvert_exporter": "python",
   "pygments_lexer": "ipython3",
   "version": "3.10.12"
  }
 },
 "nbformat": 4,
 "nbformat_minor": 5
}
