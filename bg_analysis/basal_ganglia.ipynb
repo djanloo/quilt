{
 "cells": [
  {
   "cell_type": "markdown",
   "id": "1720f67c-ce4d-4577-84bf-4058a94d9c46",
   "metadata": {},
   "source": [
    "# Dopamine modulation on BG\n",
    "\n",
    "**Observation**: increase in beta-range spectral power is observed without dopamine modulation of CTX input to MSN-D1 and MSN-D2.\n",
    "\n",
    "**Method**: I used the network model from Ortone and the model of dopamine modulation from Lindahl(2016). In particular, if an attribute $x$ of the network is subject to dopaminergic modulation, the effect of dopamine levels are modeled by\n",
    "\n",
    "$$ x(\\alpha) = x_0(1+\\chi_x (\\alpha -\\alpha_0))$$\n",
    "where $\\alpha$ represents the dopamine level and $x_0$ is the value of the parameter at standard dopamine ($\\alpha_0 = 0.8$, Lindahl). In the following, $\\chi_x$ will be called generalized susceptibility."
   ]
  },
  {
   "cell_type": "code",
   "execution_count": 1,
   "id": "cc797031-402a-4509-89b4-5430191f6f10",
   "metadata": {},
   "outputs": [
    {
     "data": {
      "text/html": [
       "<pre style=\"white-space:pre;overflow-x:auto;line-height:normal;font-family:Menlo,'DejaVu Sans Mono',consolas,'Courier New',monospace\">List of dopamine-dependent attributes:\n",
       "</pre>\n"
      ],
      "text/plain": [
       "List of dopamine-dependent attributes:\n"
      ]
     },
     "metadata": {},
     "output_type": "display_data"
    },
    {
     "data": {
      "text/html": [
       "<pre style=\"white-space:pre;overflow-x:auto;line-height:normal;font-family:Menlo,'DejaVu Sans Mono',consolas,'Courier New',monospace\">Attribute E_l        of population FSN            : chi = <span style=\"color: #008080; text-decoration-color: #008080; font-weight: bold\">-0.078</span>\n",
       "</pre>\n"
      ],
      "text/plain": [
       "Attribute E_l        of population FSN            : chi = \u001b[1;36m-0.078\u001b[0m\n"
      ]
     },
     "metadata": {},
     "output_type": "display_data"
    },
    {
     "data": {
      "text/html": [
       "<pre style=\"white-space:pre;overflow-x:auto;line-height:normal;font-family:Menlo,'DejaVu Sans Mono',consolas,'Courier New',monospace\">Attribute E_l        of population GPeTA, GPeTI   : chi = <span style=\"color: #008080; text-decoration-color: #008080; font-weight: bold\">-0.181</span>\n",
       "</pre>\n"
      ],
      "text/plain": [
       "Attribute E_l        of population GPeTA, GPeTI   : chi = \u001b[1;36m-0.181\u001b[0m\n"
      ]
     },
     "metadata": {},
     "output_type": "display_data"
    },
    {
     "data": {
      "text/html": [
       "<pre style=\"white-space:pre;overflow-x:auto;line-height:normal;font-family:Menlo,'DejaVu Sans Mono',consolas,'Courier New',monospace\">Attribute V_peak     of population D1             : chi = <span style=\"color: #008080; text-decoration-color: #008080; font-weight: bold\">0.0296</span>\n",
       "</pre>\n"
      ],
      "text/plain": [
       "Attribute V_peak     of population D1             : chi = \u001b[1;36m0.0296\u001b[0m\n"
      ]
     },
     "metadata": {},
     "output_type": "display_data"
    },
    {
     "data": {
      "text/html": [
       "<pre style=\"white-space:pre;overflow-x:auto;line-height:normal;font-family:Menlo,'DejaVu Sans Mono',consolas,'Courier New',monospace\">Attribute ada_b      of population D1             : chi = <span style=\"color: #008080; text-decoration-color: #008080; font-weight: bold\">-0.45</span>\n",
       "</pre>\n"
      ],
      "text/plain": [
       "Attribute ada_b      of population D1             : chi = \u001b[1;36m-0.45\u001b[0m\n"
      ]
     },
     "metadata": {},
     "output_type": "display_data"
    },
    {
     "data": {
      "text/html": [
       "<pre style=\"white-space:pre;overflow-x:auto;line-height:normal;font-family:Menlo,'DejaVu Sans Mono',consolas,'Courier New',monospace\">Attribute E_l        of population SNR            : chi = <span style=\"color: #008080; text-decoration-color: #008080; font-weight: bold\">-0.0896</span>\n",
       "</pre>\n"
      ],
      "text/plain": [
       "Attribute E_l        of population SNR            : chi = \u001b[1;36m-0.0896\u001b[0m\n"
      ]
     },
     "metadata": {},
     "output_type": "display_data"
    },
    {
     "data": {
      "text/html": [
       "<pre style=\"white-space:pre;overflow-x:auto;line-height:normal;font-family:Menlo,'DejaVu Sans Mono',consolas,'Courier New',monospace\">Attribute weight     of projection FSN-&gt;FSN       : chi = <span style=\"color: #008080; text-decoration-color: #008080; font-weight: bold\">-1.27</span>\n",
       "</pre>\n"
      ],
      "text/plain": [
       "Attribute weight     of projection FSN->FSN       : chi = \u001b[1;36m-1.27\u001b[0m\n"
      ]
     },
     "metadata": {},
     "output_type": "display_data"
    },
    {
     "data": {
      "text/html": [
       "<pre style=\"white-space:pre;overflow-x:auto;line-height:normal;font-family:Menlo,'DejaVu Sans Mono',consolas,'Courier New',monospace\">Attribute weight     of projection GPeTA-&gt;FSN     : chi = <span style=\"color: #008080; text-decoration-color: #008080; font-weight: bold\">-0.53</span>\n",
       "</pre>\n"
      ],
      "text/plain": [
       "Attribute weight     of projection GPeTA->FSN     : chi = \u001b[1;36m-0.53\u001b[0m\n"
      ]
     },
     "metadata": {},
     "output_type": "display_data"
    },
    {
     "data": {
      "text/html": [
       "<pre style=\"white-space:pre;overflow-x:auto;line-height:normal;font-family:Menlo,'DejaVu Sans Mono',consolas,'Courier New',monospace\">Attribute weight     of projection GPeTI-&gt;FSN     : chi = <span style=\"color: #008080; text-decoration-color: #008080; font-weight: bold\">-0.53</span>\n",
       "</pre>\n"
      ],
      "text/plain": [
       "Attribute weight     of projection GPeTI->FSN     : chi = \u001b[1;36m-0.53\u001b[0m\n"
      ]
     },
     "metadata": {},
     "output_type": "display_data"
    },
    {
     "data": {
      "text/html": [
       "<pre style=\"white-space:pre;overflow-x:auto;line-height:normal;font-family:Menlo,'DejaVu Sans Mono',consolas,'Courier New',monospace\">Attribute weight     of projection GPeTA-&gt;GPeTA, GPeTA-&gt;GPeTI, GPeTI-&gt;GPeTI,  GPeTI-&gt;GPeTA: chi = <span style=\"color: #008080; text-decoration-color: #008080; font-weight: bold\">-0.83</span>\n",
       "</pre>\n"
      ],
      "text/plain": [
       "Attribute weight     of projection GPeTA->GPeTA, GPeTA->GPeTI, GPeTI->GPeTI,  GPeTI->GPeTA: chi = \u001b[1;36m-0.83\u001b[0m\n"
      ]
     },
     "metadata": {},
     "output_type": "display_data"
    },
    {
     "data": {
      "text/html": [
       "<pre style=\"white-space:pre;overflow-x:auto;line-height:normal;font-family:Menlo,'DejaVu Sans Mono',consolas,'Courier New',monospace\">Attribute weight     of projection D2-&gt;GPeTI      : chi = <span style=\"color: #008080; text-decoration-color: #008080; font-weight: bold\">-0.83</span>\n",
       "</pre>\n"
      ],
      "text/plain": [
       "Attribute weight     of projection D2->GPeTI      : chi = \u001b[1;36m-0.83\u001b[0m\n"
      ]
     },
     "metadata": {},
     "output_type": "display_data"
    },
    {
     "data": {
      "text/html": [
       "<pre style=\"white-space:pre;overflow-x:auto;line-height:normal;font-family:Menlo,'DejaVu Sans Mono',consolas,'Courier New',monospace\">Attribute weight     of projection STN-&gt;GPeTA     : chi = <span style=\"color: #008080; text-decoration-color: #008080; font-weight: bold\">-0.45</span>\n",
       "</pre>\n"
      ],
      "text/plain": [
       "Attribute weight     of projection STN->GPeTA     : chi = \u001b[1;36m-0.45\u001b[0m\n"
      ]
     },
     "metadata": {},
     "output_type": "display_data"
    },
    {
     "data": {
      "text/html": [
       "<pre style=\"white-space:pre;overflow-x:auto;line-height:normal;font-family:Menlo,'DejaVu Sans Mono',consolas,'Courier New',monospace\">Attribute weight     of projection STN-&gt;GPeTI     : chi = <span style=\"color: #008080; text-decoration-color: #008080; font-weight: bold\">-0.45</span>\n",
       "</pre>\n"
      ],
      "text/plain": [
       "Attribute weight     of projection STN->GPeTI     : chi = \u001b[1;36m-0.45\u001b[0m\n"
      ]
     },
     "metadata": {},
     "output_type": "display_data"
    },
    {
     "data": {
      "text/html": [
       "<pre style=\"white-space:pre;overflow-x:auto;line-height:normal;font-family:Menlo,'DejaVu Sans Mono',consolas,'Courier New',monospace\">Attribute connectivity of projection FSN-&gt;D2        : chi = <span style=\"color: #008080; text-decoration-color: #008080; font-weight: bold\">-0.9</span>\n",
       "</pre>\n"
      ],
      "text/plain": [
       "Attribute connectivity of projection FSN->D2        : chi = \u001b[1;36m-0.9\u001b[0m\n"
      ]
     },
     "metadata": {},
     "output_type": "display_data"
    },
    {
     "data": {
      "text/html": [
       "<pre style=\"white-space:pre;overflow-x:auto;line-height:normal;font-family:Menlo,'DejaVu Sans Mono',consolas,'Courier New',monospace\">Attribute connectivity of projection D1-&gt;D1, D1-&gt;D2, D2-&gt;D1, D2-&gt;D2: chi = <span style=\"color: #008080; text-decoration-color: #008080; font-weight: bold\">0.88</span>\n",
       "</pre>\n"
      ],
      "text/plain": [
       "Attribute connectivity of projection D1->D1, D1->D2, D2->D1, D2->D2: chi = \u001b[1;36m0.88\u001b[0m\n"
      ]
     },
     "metadata": {},
     "output_type": "display_data"
    },
    {
     "data": {
      "text/html": [
       "<pre style=\"white-space:pre;overflow-x:auto;line-height:normal;font-family:Menlo,'DejaVu Sans Mono',consolas,'Courier New',monospace\">Attribute weight     of projection D1-&gt;D1, D1-&gt;D2, D2-&gt;D1, D2-&gt;D2: chi = <span style=\"color: #008080; text-decoration-color: #008080; font-weight: bold\">0.88</span>\n",
       "</pre>\n"
      ],
      "text/plain": [
       "Attribute weight     of projection D1->D1, D1->D2, D2->D1, D2->D2: chi = \u001b[1;36m0.88\u001b[0m\n"
      ]
     },
     "metadata": {},
     "output_type": "display_data"
    },
    {
     "data": {
      "text/html": [
       "<pre style=\"white-space:pre;overflow-x:auto;line-height:normal;font-family:Menlo,'DejaVu Sans Mono',consolas,'Courier New',monospace\">Attribute weight     of projection GPeTA-&gt;D1      : chi = <span style=\"color: #008080; text-decoration-color: #008080; font-weight: bold\">-1.15</span>\n",
       "</pre>\n"
      ],
      "text/plain": [
       "Attribute weight     of projection GPeTA->D1      : chi = \u001b[1;36m-1.15\u001b[0m\n"
      ]
     },
     "metadata": {},
     "output_type": "display_data"
    },
    {
     "data": {
      "text/html": [
       "<pre style=\"white-space:pre;overflow-x:auto;line-height:normal;font-family:Menlo,'DejaVu Sans Mono',consolas,'Courier New',monospace\">Attribute weight     of projection D1-&gt;SNR        : chi = <span style=\"color: #008080; text-decoration-color: #008080; font-weight: bold\">0.56</span>\n",
       "</pre>\n"
      ],
      "text/plain": [
       "Attribute weight     of projection D1->SNR        : chi = \u001b[1;36m0.56\u001b[0m\n"
      ]
     },
     "metadata": {},
     "output_type": "display_data"
    },
    {
     "data": {
      "text/html": [
       "<pre style=\"white-space:pre;overflow-x:auto;line-height:normal;font-family:Menlo,'DejaVu Sans Mono',consolas,'Courier New',monospace\">Attribute weight     of projection GPeTI-&gt;STN     : chi = <span style=\"color: #008080; text-decoration-color: #008080; font-weight: bold\">-0.24</span>\n",
       "</pre>\n"
      ],
      "text/plain": [
       "Attribute weight     of projection GPeTI->STN     : chi = \u001b[1;36m-0.24\u001b[0m\n"
      ]
     },
     "metadata": {},
     "output_type": "display_data"
    }
   ],
   "source": [
    "import yaml\n",
    "from rich import print\n",
    "\n",
    "NEURONS_FILE = \"lindahl_neurons.yaml\"\n",
    "NETWORK_FILE = \"lindahl_network.yaml\"\n",
    "DOPAMINE_FILE = \"lindahl_dopamine_susceptibility.yaml\"\n",
    "\n",
    "\n",
    "print(\"List of dopamine-dependent attributes:\")\n",
    "with open(DOPAMINE_FILE, \"r\") as dopfile:\n",
    "    susceptiblities = yaml.safe_load(dopfile)['parametric']['dopamine']\n",
    "\n",
    "for item in susceptiblities:\n",
    "    if 'population' in item.keys():\n",
    "        print(f\"Attribute {item['attribute']:10} of population {item['population']:15}: chi = {item['susceptibility']}\")\n",
    "    elif 'projection' in item.keys():\n",
    "        print(f\"Attribute {item['attribute']:10} of projection {item['projection']:15}: chi = {item['susceptibility']}\")"
   ]
  },
  {
   "cell_type": "code",
   "execution_count": 2,
   "id": "be5a96dc-9e68-45e4-b364-fc6ba91b2200",
   "metadata": {},
   "outputs": [],
   "source": [
    "import numpy as np\n",
    "import matplotlib.pyplot as plt\n",
    "\n",
    "# %load_ext autoreload\n",
    "# %autoreload 2\n",
    "%matplotlib inline\n",
    "# %matplotlib ipympl\n",
    "\n",
    "# FSN [10-20] Hz \n",
    "# D1, D2 [0.5–2.5] Hz\n",
    "# GPe-TI [40–60] Hz\n",
    "# GPe-TA [5–15] Hz \n",
    "# and STN [12–20] Hz"
   ]
  },
  {
   "cell_type": "markdown",
   "id": "45791d11-80ac-4d9c-8ced-73e0f0392cf3",
   "metadata": {},
   "source": [
    "## Parameters of the simulation"
   ]
  },
  {
   "cell_type": "code",
   "execution_count": 3,
   "id": "01d4a799-c24a-463c-812b-304b7d6ce1ce",
   "metadata": {},
   "outputs": [],
   "source": [
    "Tlong = 8000  # ms\n",
    "dt = 0.1      # ms\n",
    "\n",
    "points_per_bin = 1/dt     # bins 1 ms wide\n",
    "sampling_frequency = 1e3  # 1 kHz sampling frequency\n",
    "burn_in_millis = 600      # the first part of the record to discard (ms)\n",
    "\n",
    "# Params for trials\n",
    "n_trials = 10\n",
    "Tshort = 1500 # ms\n",
    "\n",
    "# Rescaling of populations: Lindahl network is unbearable on my machine\n",
    "# so populations are rescaled to match sizes from Ortone\n",
    "populations_scaling = dict()\n",
    "if NETWORK_FILE == \"lindahl_network.yaml\":\n",
    "    populations_scaling = dict( MSN_scale= -0.84,\n",
    "                                FSN_scale= -0.74,\n",
    "                                GPe_scale= -0.22,\n",
    "                                STN_scale= 0.05\n",
    "                              )\n"
   ]
  },
  {
   "cell_type": "markdown",
   "id": "2d03c636-416b-46d2-9568-45554ab08b09",
   "metadata": {},
   "source": [
    "## Utils & plots"
   ]
  },
  {
   "cell_type": "code",
   "execution_count": 4,
   "id": "fcf3c3f2-033d-45de-a437-2cbabd971c1b",
   "metadata": {},
   "outputs": [],
   "source": [
    "from scipy.signal import butter, sosfiltfilt, freqz, welch\n",
    "from scipy.integrate import simpson\n",
    "from scipy.stats import entropy\n",
    "\n",
    "def bin_spikes(spikes, points_per_bin = 10):\n",
    "    binned_signal = np.sum( spikes[:(len(spikes)//points_per_bin)*points_per_bin].reshape(-1, points_per_bin),\n",
    "                        axis=1).squeeze()\n",
    "    return binned_signal\n",
    "\n",
    "def beta_power(sn, population):    \n",
    "    spikes = sn.populations[population].get_data('spikes')\n",
    "    binned_spikes = bin_spikes(spikes)[burn_in_millis:]\n",
    "    T = len(binned_spikes)\n",
    "    f, PSD = welch(binned_spikes, \n",
    "                   sampling_frequency, \n",
    "                   nperseg = T/2, # Takes at least 3 windows\n",
    "                   noverlap= T/4,\n",
    "                   nfft=None, \n",
    "                   scaling='density', \n",
    "                   window='hamming')\n",
    "    print(f\"f peak {f[np.argmax(PSD)]}\")\n",
    "    beta_mask = (f>12)&(f<30)\n",
    "    return np.trapz(PSD[beta_mask], x=f[beta_mask])\n",
    "\n",
    "def bandpass(data, edges, sample_rate, poles = 5):\n",
    "    sos = butter(poles, edges, 'bandpass', fs=sample_rate, output='sos')\n",
    "    filtered_data = sosfiltfilt(sos, data)\n",
    "    return filtered_data"
   ]
  },
  {
   "cell_type": "code",
   "execution_count": 5,
   "id": "9c9b0120-b7dd-4798-ae3c-9c91553621ef",
   "metadata": {},
   "outputs": [],
   "source": [
    "def plot_spectrum(sn, scale=\"log\"):\n",
    "    fig, axes = plt.subplots(len(sn.populations), 1, sharex=True)\n",
    "    for ax, pop in zip(axes, sn.populations):\n",
    "        spikes = sn.populations[pop].get_data('spikes')\n",
    "        binned_spikes = bin_spikes(spikes)\n",
    "        binned_spikes = binned_spikes[burn_in_millis:]\n",
    "        T = len(binned_spikes)\n",
    "        print(f\"Mean firing rate {pop} is {np.sum(spikes)/sn.populations[pop].n_neurons/(Tlong/1000) :.1f} Hz\")\n",
    "        f, PSD = welch(binned_spikes, \n",
    "                       sampling_frequency, \n",
    "                       nperseg=T/2, \n",
    "                       noverlap=T/4,\n",
    "                       nfft=None, \n",
    "                       scaling='density', \n",
    "                       window='hamming')\n",
    "    \n",
    "        norm = simpson(PSD, x=f)\n",
    "        ax.plot(f, PSD/norm, label=pop)\n",
    "        \n",
    "        ax.set_ylabel(pop)\n",
    "        ax.set_yscale(scale)\n",
    "    print(f\"F resolution { f[1] - f[0] :.2f} Hz\")\n",
    "    # plt.yscale('log')\n",
    "    # plt.legend()\n",
    "    # plt.ylabel(\"normalized PSD\")\n",
    "    plt.xlabel(\"Frequency [Hz]\")\n",
    "    plt.xlim(0,150)\n",
    "    fig.set_figheight(8.5)\n",
    "    \n",
    "def plot_signals(sn):\n",
    "    fig, axes = plt.subplots(len(sn.populations), 1, sharex=True)\n",
    "    for ax, pop in zip(axes, sn.populations):\n",
    "        binned_spikes = bin_spikes(sn.populations[pop].get_data('spikes'))\n",
    "        instantaneous_fr = binned_spikes/sn.populations[pop].n_neurons*1000\n",
    "        \n",
    "        tt = np.linspace(0, len(instantaneous_fr)/1000, len(instantaneous_fr))\n",
    "        ax.plot(tt, instantaneous_fr)\n",
    "        ax.plot(tt, bandpass(instantaneous_fr, [12, 24], sampling_frequency), label=\"beta\")\n",
    "        ax.plot(tt, bandpass(instantaneous_fr, [30, 140], sampling_frequency), label=\"gamma\")\n",
    "        ax.set_ylabel(pop)\n",
    "    # ax.set_xlim(1.5, 2)\n",
    "    fig.suptitle(\"Instantaneous firing rate [Hz]\")\n",
    "    ax.set_xlabel(\"time [s]\")\n",
    "    fig.set_figheight(8.5)"
   ]
  },
  {
   "cell_type": "markdown",
   "id": "0e1d221d-74d8-4a12-90bd-376344029e7b",
   "metadata": {},
   "source": [
    "## Building the network"
   ]
  },
  {
   "cell_type": "code",
   "execution_count": 6,
   "id": "7936553f-7bb7-41d1-828f-fea5589acc73",
   "metadata": {},
   "outputs": [],
   "source": [
    "from quilt.interface.spiking import set_verbosity\n",
    "set_verbosity(1)"
   ]
  },
  {
   "cell_type": "code",
   "execution_count": 7,
   "id": "c4529574-d29e-41cf-af8b-ae77d69f1371",
   "metadata": {},
   "outputs": [],
   "source": [
    "from quilt.builder import NeuronCatalogue, ParametricSpikingNetwork\n",
    "\n",
    "neuron_catalogue = NeuronCatalogue.from_yaml(NEURONS_FILE)\n",
    "sn = ParametricSpikingNetwork.from_yaml(NETWORK_FILE, \n",
    "                                        DOPAMINE_FILE, \n",
    "                                        neuron_catalogue)\n",
    "sn.monitorize_spikes()"
   ]
  },
  {
   "cell_type": "code",
   "execution_count": 8,
   "id": "73e18b4d-675b-496a-91e5-550a970b2a9a",
   "metadata": {},
   "outputs": [],
   "source": [
    "# from quilt.view import plot_graph\n",
    "# fig, ax = plt.subplots()\n",
    "# plot_graph(sn)\n",
    "# plt.show()"
   ]
  },
  {
   "cell_type": "markdown",
   "id": "7ba13cef-e919-4680-b605-10a301f353d6",
   "metadata": {},
   "source": [
    "## Control case (healthy subject)"
   ]
  },
  {
   "cell_type": "code",
   "execution_count": null,
   "id": "64c072b2-47b6-4bae-88e4-f5406342512e",
   "metadata": {},
   "outputs": [
    {
     "data": {
      "application/vnd.jupyter.widget-view+json": {
       "model_id": "a4718d6eb17843c6a4ff227ed4c70666",
       "version_major": 2,
       "version_minor": 0
      },
      "text/plain": [
       "Output()"
      ]
     },
     "metadata": {},
     "output_type": "display_data"
    },
    {
     "data": {
      "text/html": [
       "<pre style=\"white-space:pre;overflow-x:auto;line-height:normal;font-family:Menlo,'DejaVu Sans Mono',consolas,'Courier New',monospace\"></pre>\n"
      ],
      "text/plain": []
     },
     "metadata": {},
     "output_type": "display_data"
    }
   ],
   "source": [
    "sn.set_parameters(dopamine=1.0, **populations_scaling)\n",
    "sn.run(dt=dt, time=Tlong)"
   ]
  },
  {
   "cell_type": "code",
   "execution_count": null,
   "id": "8d8f83ae-aa07-4335-8a78-e4d555ab0abd",
   "metadata": {},
   "outputs": [],
   "source": [
    "plot_spectrum(sn, scale=\"linear\")"
   ]
  },
  {
   "cell_type": "code",
   "execution_count": null,
   "id": "3a15d9cd-06a7-4efe-aa37-7aa968588ca6",
   "metadata": {},
   "outputs": [],
   "source": [
    "plot_signals(sn)\n",
    "plt.gca().set_xlim(3.5, 4)"
   ]
  },
  {
   "cell_type": "markdown",
   "id": "95050a31-f913-4284-b54e-b30d5fbaa5f3",
   "metadata": {},
   "source": [
    "## Lesioned case (PD)"
   ]
  },
  {
   "cell_type": "code",
   "execution_count": null,
   "id": "9121ccaf-aa17-430e-a38e-c1245c7ef4b0",
   "metadata": {},
   "outputs": [],
   "source": [
    "sn.set_parameters(dopamine=0.65, **populations_scaling)\n",
    "sn.run(dt=dt, time=Tlong)"
   ]
  },
  {
   "cell_type": "code",
   "execution_count": null,
   "id": "ce322315-732b-4bc3-8807-082ebc353890",
   "metadata": {},
   "outputs": [],
   "source": [
    "plot_spectrum(sn, scale=\"linear\")"
   ]
  },
  {
   "cell_type": "code",
   "execution_count": null,
   "id": "e8300cad-3282-4ac2-9f69-c54a541268d1",
   "metadata": {},
   "outputs": [],
   "source": [
    "plot_signals(sn)\n",
    "plt.gca().set_xlim(2.5, 3)"
   ]
  }
 ],
 "metadata": {
  "kernelspec": {
   "display_name": "quilt_env",
   "language": "python",
   "name": "quilt_env"
  },
  "language_info": {
   "codemirror_mode": {
    "name": "ipython",
    "version": 3
   },
   "file_extension": ".py",
   "mimetype": "text/x-python",
   "name": "python",
   "nbconvert_exporter": "python",
   "pygments_lexer": "ipython3",
   "version": "3.10.12"
  }
 },
 "nbformat": 4,
 "nbformat_minor": 5
}
